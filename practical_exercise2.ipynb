{
 "cells": [
  {
   "cell_type": "markdown",
   "metadata": {
    "id": "tBDsFMQwBs6Z"
   },
   "source": [
    "# Practical exercise 2:  You are a game developer :)\n",
    "\n",
    "In this practical exercise you are a game developer. You will program your first game – Rock, Paper, Scissors.\n",
    "\n",
    "If you are not familiar with the game, you can read about it here: https://en.wikipedia.org/wiki/Rock_paper_scissors.\n",
    "\n",
    "You will program the game step by step. Please read the instructions carefully. There are hints and important explanations that will help you with this exercise."
   ]
  },
  {
   "cell_type": "markdown",
   "metadata": {
    "id": "ymULFKyosM3d"
   },
   "source": [
    "##Warm up\n",
    "\n",
    "Each player can choose between the three actions \"rock\", \"paper\" and \"scissors\". First, you need to create a list that contains all possible actions. "
   ]
  },
  {
   "cell_type": "code",
   "execution_count": 1,
   "metadata": {
    "id": "0w6HGZBvsvru"
   },
   "outputs": [],
   "source": [
    "#Please create a list containing the three actions of the game.\n",
    "actions = [\"rock\",\"paper\",\"scissors\"]"
   ]
  },
  {
   "cell_type": "markdown",
   "metadata": {
    "id": "cnWVzlo1vBy8"
   },
   "source": [
    "# Choose an action\n",
    "\n",
    "Now you have the list with the actions ready. The next step is to let Python randomly choose an action from this list. Each player has to make a choice, so Python has to make a choice for player 1 and another one for player 2.\n",
    "\n",
    "📌The built-in module \"random\" can help you with this. As you might remember from previous lessons you can use the .randint() method to generate random numbers.\n",
    "\n",
    "📌📌There is another method in the random module called .choice(). It takes a list as input and selects an item randomly from that list.\n",
    "\n"
   ]
  },
  {
   "cell_type": "code",
   "execution_count": 15,
   "metadata": {
    "id": "bdlEyJC2xPOw"
   },
   "outputs": [
    {
     "name": "stdout",
     "output_type": "stream",
     "text": [
      "paper\n",
      "scissors\n"
     ]
    }
   ],
   "source": [
    "#Import the random library\n",
    "import random\n",
    "\n",
    "#Select a random action for each player\n",
    "a = random.randint(0,2)\n",
    "b = random.randint(0,2)\n",
    "\n",
    "player_1 = actions[a]\n",
    "player_2 = actions[b]\n",
    "\n",
    "#Use the print function to print the players choices\n",
    "print(player_1)\n",
    "print(player_2)"
   ]
  },
  {
   "cell_type": "markdown",
   "metadata": {
    "id": "Yr7uQq1J2k6p"
   },
   "source": [
    "# Determine the winner\n",
    "\n",
    "So, who won? To determine the winner, you first have to specify all possible outcomes of the game. Then you can use conditional statements to specify which outcome will lead to a win for player 1 or player 2, or a tie.\n",
    "\n",
    "First, let's start with the outcome that both users chose the same action: a tie!\n",
    "In case of a tie, the game should print the message \"Tie! Both players chose the same action.\" to the screen.\n",
    "\n",
    "📌Use conditional statements to check whether the players actions are equal to each other and *if* this condition is true the message should be printed."
   ]
  },
  {
   "cell_type": "code",
   "execution_count": 12,
   "metadata": {
    "id": "8S1F2r8NtEoN"
   },
   "outputs": [],
   "source": [
    "#1 - Tie Condition\n",
    "#Please write an if statement to check if the players chose the same action\n",
    "if player_1 == player_2:\n",
    "    print(\"Tie! Both players chose the same action.\")\n"
   ]
  },
  {
   "cell_type": "markdown",
   "metadata": {
    "id": "6aKSif7rItma"
   },
   "source": [
    "Now, let's focus on the remaining outcomes. We have three different actions: rock, paper and scissors.\n",
    "\n",
    "This is a list of all the possible combinations (without those that result in a tie):\n",
    "\n",
    "1.   (paper, rock)\n",
    "2.   (paper, scissors)\n",
    "3.   (scissors, rock)\n",
    "4.   (scissors, paper)\n",
    "5.   (rock, paper)\n",
    "6.   (rock, scissors)\n",
    "\n",
    "You need to check all these conditions in order to determine the winner.\n",
    "\n",
    "📌You can use the \"and\" operator to combine two actions in one conditional statement.\n",
    "\n",
    "📌📌Another approach is using nested if statements to check whether the action of player 2 beats the action of player 1.\n",
    "\n",
    "🧨💣In the cell, first copy the code you wrote for \"Tie\" conditions. Then continue to add the other outcomes using \"elif\".\n",
    "\n",
    "\n"
   ]
  },
  {
   "cell_type": "code",
   "execution_count": 16,
   "metadata": {
    "id": "Ix9sskr5z6Td"
   },
   "outputs": [
    {
     "name": "stdout",
     "output_type": "stream",
     "text": [
      "Player 2 won the game!\n"
     ]
    }
   ],
   "source": [
    "#Copy your code of the tie-conditions here\n",
    "#1 - Tie Condition\n",
    "if player_1 == player_2:\n",
    "    print(\"Tie! Both players chose the same action.\")\n",
    "\n",
    "#2-Winning Conditions\n",
    "#Please add the conditional statements for the remaining combinations \n",
    "\n",
    "if player_1 == \"paper\" and player_2 == \"rock\":\n",
    "    print(\"Player 1 won the game!\")\n",
    "elif player_1 == \"paper\" and player_2 == \"scissors\":\n",
    "    print(\"Player 2 won the game!\")\n",
    "elif player_1 == \"scissors\" and player_2 == \"rock\":\n",
    "    print(\"Player 2 won the game!\")\n",
    "elif player_1 == \"scissors\" and player_2 == \"paper\":\n",
    "    print(\"Player 1 won the game!\")\n",
    "elif player_1 == \"rock\" and player_2 == \"paper\":\n",
    "    print(\"Player 2 won the game!\")\n",
    "elif player_1 == \"rock\" and player_2 == \"scissors\":\n",
    "    print(\"Player 1 won the game!\")\n"
   ]
  },
  {
   "cell_type": "markdown",
   "metadata": {
    "id": "7Ixf-AHqIhcV"
   },
   "source": [
    "# Best of 3 or 5 or single round ? :)\n",
    "\n",
    "Now that you have your game set, let's also ask the users how many rounds they want to play.\n",
    "\n",
    "📌 You can use the input function for this.\n",
    "\n",
    "And because there are multiple rounds, you need to keep track of the score. For this, you need to create a variable for each player that is 0 in the beginning.\n"
   ]
  },
  {
   "cell_type": "code",
   "execution_count": 18,
   "metadata": {
    "id": "_kbrpXXkBU_d"
   },
   "outputs": [
    {
     "name": "stdout",
     "output_type": "stream",
     "text": [
      "How many rounds do you want to play? : 5\n"
     ]
    }
   ],
   "source": [
    "#Please ask the user how many rounds they want to play\n",
    "rounds_count = int(input(\"How many rounds do you want to play? : \"))\n",
    "\n",
    "#Scores of players\n",
    "player_1_score = 0\n",
    "player_2_score = 0\n"
   ]
  },
  {
   "cell_type": "markdown",
   "metadata": {
    "id": "nzIGT6s_CWvP"
   },
   "source": [
    "# Use a for loop to specify the number of rounds \n",
    "The user specified how many rounds he or she wants to play. \n",
    "\n",
    "One way to use this information is to put the game inside of a for loop.\n",
    "\n",
    "📌 You can use a for loop and the range() function to repeat the loop for a specified number of times.\n",
    "\n",
    "📌📌 Don't forget to convert the user input to the data type integer. You can use the int() function for this.\n",
    "\n",
    "📌📌📌 Don't forget to increment or add 1 to the score of the players that win, and print the current score after each round. You can use the assignment operator +=1 for this. "
   ]
  },
  {
   "cell_type": "code",
   "execution_count": 27,
   "metadata": {
    "id": "Wy7CLLRNCV3X"
   },
   "outputs": [
    {
     "name": "stdout",
     "output_type": "stream",
     "text": [
      "How many rounds do you want to play? : 3\n",
      "Player 1 choose: scissors\n",
      "Player 2 choose: rock\n",
      "Player 2 won the round!\n",
      "Player 1 : 0 \n",
      "Player 2 : 1\n",
      "Player 1 choose: paper\n",
      "Player 2 choose: scissors\n",
      "Player 2 won the round!\n",
      "Player 1 : 0 \n",
      "Player 2 : 2\n",
      "Player 1 choose: scissors\n",
      "Player 2 choose: paper\n",
      "Player 1 won the round!\n",
      "Player 1 : 1 \n",
      "Player 2 : 2\n",
      "Player 1 choose: scissors\n",
      "Player 2 choose: rock\n",
      "Player 2 won the round!\n",
      "Player 1 : 1 \n",
      "Player 2 : 3\n",
      "\n",
      "Player 2 won the game!\n"
     ]
    }
   ],
   "source": [
    "#Collect all the components of your program to run it in a for loop\n",
    "#Import the random library\n",
    "import random\n",
    "\n",
    "#Add the code to create a list containing the three actions of the game.\n",
    "actions = [\"rock\",\"paper\",\"scissors\"]\n",
    "\n",
    "#Add the code to set the scores of players to 0\n",
    "player_1_score = 0\n",
    "player_2_score = 0\n",
    "\n",
    "#Add the code to ask the user how many rounds they want to play\n",
    "rounds_count = int(input(\"How many rounds do you want to play? : \"))\n",
    "\n",
    "#Write a for loop and put the game inside\n",
    "while player_1_score != rounds_count and player_2_score != rounds_count:\n",
    "    a = random.randint(0,2)\n",
    "    b = random.randint(0,2)\n",
    "\n",
    "    player_1 = actions[a]\n",
    "    player_2 = actions[b]\n",
    "    \n",
    "    print(\"Player 1 choose:\", player_1)\n",
    "    print(\"Player 2 choose:\", player_2)\n",
    "    \n",
    "    if player_1 == player_2:\n",
    "        print(\"Tie! Both players chose the same action.\")\n",
    "    elif player_1 == \"paper\" and player_2 == \"rock\":\n",
    "        print(\"Player 1 won the round!\")\n",
    "        player_1_score += 1\n",
    "    elif player_1 == \"paper\" and player_2 == \"scissors\":\n",
    "        print(\"Player 2 won the round!\")\n",
    "        player_2_score += 1\n",
    "    elif player_1 == \"scissors\" and player_2 == \"rock\":\n",
    "        print(\"Player 2 won the round!\")\n",
    "        player_2_score += 1\n",
    "    elif player_1 == \"scissors\" and player_2 == \"paper\":\n",
    "        print(\"Player 1 won the round!\")\n",
    "        player_1_score += 1\n",
    "    elif player_1 == \"rock\" and player_2 == \"paper\":\n",
    "        print(\"Player 2 won the round!\")\n",
    "        player_2_score += 1\n",
    "    elif player_1 == \"rock\" and player_2 == \"scissors\":\n",
    "        print(\"Player 1 won the round!\")\n",
    "        player_1_score += 1\n",
    "    print(\"Player 1 :\",player_1_score, \"\\nPlayer 2 :\",player_2_score)\n",
    "  #Add the code to select a random action for each player\n",
    "    \n",
    "\n",
    "  #Add the code to print the players choices\n",
    "\n",
    "\n",
    "  #Add the tie condition\n",
    "\n",
    "\n",
    "  #Add the remaining condition\n",
    "\n",
    "\n",
    "  #print the score\n",
    "if player_1_score > player_2_score:\n",
    "    print(\"\\nPlayer 1 won the game!\")\n",
    "else:\n",
    "    print(\"\\nPlayer 2 won the game!\")\n",
    "\n",
    "\n"
   ]
  },
  {
   "cell_type": "markdown",
   "metadata": {
    "id": "QQIXQsmRwGqB"
   },
   "source": [
    "# Use a while loop to specify the number of rounds - Part 1\n",
    "\n",
    "In this module we also learned about while loops. Another way to play the game over and over again is using a while loop. \n",
    "\n",
    "This time, let's put the game inside a while loop.\n",
    "\n",
    "📌 You can directly use the value *True* to specify that the while loop should be executed. \n",
    "\n",
    "💣 By the way: Another very common name for True/False values is \"**Boolean values**\" or \"**Bools**\" in short.\n",
    "\n",
    "🧨🧨 Caution! Since we run the game in an while loop, you have to stop the game manually. Otherwise it will run infinitely.\n"
   ]
  },
  {
   "cell_type": "code",
   "execution_count": null,
   "metadata": {
    "id": "dvTr4HR4wF4n"
   },
   "outputs": [],
   "source": [
    "#Collect all the components of your program to run it in a while loop\n",
    "#Import the random library\n",
    "\n",
    "\n",
    "#Add the code to create a list containing the three actions of the game.\n",
    "\n",
    "\n",
    "#Add the code to set the scores of players to 0\n",
    "\n",
    "\n",
    "#Write a while loop and put the game inside\n",
    "\n",
    "\n",
    "  #Add the code to select a random action for each player\n",
    "\n",
    "\n",
    "  #Add the code to print the players choices\n",
    "\n",
    "\n",
    "  #Add the tie condition\n",
    "\n",
    "\n",
    "  #Add the remaining condition\n",
    "\n",
    "\n",
    "  #print the score\n",
    "\n"
   ]
  },
  {
   "cell_type": "markdown",
   "metadata": {
    "id": "YKVAuxIsjaE6"
   },
   "source": [
    "# Use a while loop to specify the number of rounds - Part 2\n",
    "\n",
    "Now the game runs infinitely and the user can end it manually. But there is a more efficient way to do this: Let's ask the user again how many rounds they want to play, just as you did for the game inside the for loop.\n",
    "\n",
    "To prevent an infinite loop, you need to add a round_counter that is 0 at the beginning. In each round, this counter needs to increase by 1. \n",
    "\n",
    "At the end of your while loop, you need to add an \"if\" condition to check whether the round_counter is equal to the number of rounds that we got from user as an input. If this is the case, we need to use \"**break**\" to end the game.\n",
    "\n",
    "Once we end the game, it would be nice to see a message that prints the winner to the screen. In case of a tie, it should print a message that the game ended in a tie.\n",
    "\n",
    "📌 You can use \"if\" and \"elif\" statements to determine the winner at the end."
   ]
  },
  {
   "cell_type": "code",
   "execution_count": null,
   "metadata": {
    "id": "emrjgYoXjYCR"
   },
   "outputs": [],
   "source": [
    "#Collect all the components of your program to run it in a while loop\n",
    "#Import the random library\n",
    "\n",
    "\n",
    "#Add the code to create a list containing the three actions of the game.\n",
    "\n",
    "\n",
    "#Add the code to set the scores of players to 0\n",
    "\n",
    "#Add a round_counter that is 0 at the beginning\n",
    "\n",
    "\n",
    "#Add the code to ask the user how many rounds they want to play\n",
    "\n",
    "\n",
    "#Write a while loop and put the game inside\n",
    "\n",
    "\n",
    "  #increase round_counter by 1 and print it\n",
    "\n",
    "\n",
    "  #Add the code to select a random action for each player\n",
    "\n",
    "\n",
    "  #Add the code to print the players choices\n",
    "\n",
    "\n",
    "  #Add the tie condition\n",
    "\n",
    "\n",
    "  #Add the remaining condition\n",
    "\n",
    "\n",
    "  #print the score\n",
    "\n",
    "\n",
    "  #stop the while loop if the round_counter equals the number of total rounds\n",
    "\n",
    "#Print the outcome of the game by using conditional statements\n",
    "  "
   ]
  }
 ],
 "metadata": {
  "colab": {
   "collapsed_sections": [],
   "name": "practical_exercise2.ipynb",
   "provenance": []
  },
  "kernelspec": {
   "display_name": "Python 3 (ipykernel)",
   "language": "python",
   "name": "python3"
  },
  "language_info": {
   "codemirror_mode": {
    "name": "ipython",
    "version": 3
   },
   "file_extension": ".py",
   "mimetype": "text/x-python",
   "name": "python",
   "nbconvert_exporter": "python",
   "pygments_lexer": "ipython3",
   "version": "3.9.12"
  }
 },
 "nbformat": 4,
 "nbformat_minor": 1
}
